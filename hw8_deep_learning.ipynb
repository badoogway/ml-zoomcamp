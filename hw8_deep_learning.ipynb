{
 "cells": [
  {
   "cell_type": "code",
   "execution_count": 1,
   "id": "bfc2a698",
   "metadata": {},
   "outputs": [],
   "source": [
    "# !wget https://github.com/SVizor42/ML_Zoomcamp/releases/download/bee-wasp-data/data.zip\n",
    "# !unzip data.zip"
   ]
  },
  {
   "cell_type": "code",
   "execution_count": 2,
   "id": "53575340",
   "metadata": {},
   "outputs": [
    {
     "name": "stderr",
     "output_type": "stream",
     "text": [
      "2023-11-16 12:05:56.207782: I tensorflow/core/util/util.cc:169] oneDNN custom operations are on. You may see slightly different numerical results due to floating-point round-off errors from different computation orders. To turn them off, set the environment variable `TF_ENABLE_ONEDNN_OPTS=0`.\n"
     ]
    }
   ],
   "source": [
    "import pandas as pd\n",
    "import tensorflow as tf\n",
    "\n",
    "from tensorflow.keras import layers, models\n",
    "from tensorflow.keras.preprocessing.image import ImageDataGenerator"
   ]
  },
  {
   "cell_type": "markdown",
   "id": "6bb24cb3",
   "metadata": {},
   "source": [
    "*Model*"
   ]
  },
  {
   "cell_type": "code",
   "execution_count": 3,
   "id": "82c0918c",
   "metadata": {},
   "outputs": [
    {
     "name": "stderr",
     "output_type": "stream",
     "text": [
      "2023-11-16 12:05:57.833398: I tensorflow/stream_executor/cuda/cuda_gpu_executor.cc:975] successful NUMA node read from SysFS had negative value (-1), but there must be at least one NUMA node, so returning NUMA node zero\n",
      "2023-11-16 12:05:57.840687: I tensorflow/stream_executor/cuda/cuda_gpu_executor.cc:975] successful NUMA node read from SysFS had negative value (-1), but there must be at least one NUMA node, so returning NUMA node zero\n",
      "2023-11-16 12:05:57.841374: I tensorflow/stream_executor/cuda/cuda_gpu_executor.cc:975] successful NUMA node read from SysFS had negative value (-1), but there must be at least one NUMA node, so returning NUMA node zero\n",
      "2023-11-16 12:05:57.842352: I tensorflow/core/platform/cpu_feature_guard.cc:193] This TensorFlow binary is optimized with oneAPI Deep Neural Network Library (oneDNN) to use the following CPU instructions in performance-critical operations:  AVX2 AVX512F AVX512_VNNI FMA\n",
      "To enable them in other operations, rebuild TensorFlow with the appropriate compiler flags.\n",
      "2023-11-16 12:05:57.842782: I tensorflow/stream_executor/cuda/cuda_gpu_executor.cc:975] successful NUMA node read from SysFS had negative value (-1), but there must be at least one NUMA node, so returning NUMA node zero\n",
      "2023-11-16 12:05:57.843375: I tensorflow/stream_executor/cuda/cuda_gpu_executor.cc:975] successful NUMA node read from SysFS had negative value (-1), but there must be at least one NUMA node, so returning NUMA node zero\n",
      "2023-11-16 12:05:57.843907: I tensorflow/stream_executor/cuda/cuda_gpu_executor.cc:975] successful NUMA node read from SysFS had negative value (-1), but there must be at least one NUMA node, so returning NUMA node zero\n",
      "2023-11-16 12:05:58.485763: I tensorflow/stream_executor/cuda/cuda_gpu_executor.cc:975] successful NUMA node read from SysFS had negative value (-1), but there must be at least one NUMA node, so returning NUMA node zero\n",
      "2023-11-16 12:05:58.486379: I tensorflow/stream_executor/cuda/cuda_gpu_executor.cc:975] successful NUMA node read from SysFS had negative value (-1), but there must be at least one NUMA node, so returning NUMA node zero\n",
      "2023-11-16 12:05:58.486940: I tensorflow/stream_executor/cuda/cuda_gpu_executor.cc:975] successful NUMA node read from SysFS had negative value (-1), but there must be at least one NUMA node, so returning NUMA node zero\n",
      "2023-11-16 12:05:58.487463: I tensorflow/core/common_runtime/gpu/gpu_device.cc:1532] Created device /job:localhost/replica:0/task:0/device:GPU:0 with 13795 MB memory:  -> device: 0, name: Tesla T4, pci bus id: 0000:00:1e.0, compute capability: 7.5\n"
     ]
    }
   ],
   "source": [
    "model = models.Sequential()\n",
    "model.add(layers.InputLayer(input_shape=(150, 150, 3)))\n",
    "model.add(layers.Conv2D(32, (3, 3), activation='relu'))\n",
    "model.add(layers.MaxPooling2D((2, 2)))\n",
    "model.add(layers.Flatten())\n",
    "model.add(layers.Dense(64, activation='relu'))\n",
    "model.add(layers.Dense(1, activation='sigmoid'))\n",
    "\n",
    "model.compile(\n",
    "    optimizer=tf.keras.optimizers.SGD(learning_rate=0.002, momentum=0.8),\n",
    "    loss=tf.keras.losses.BinaryCrossentropy(),\n",
    "    metrics=['accuracy']\n",
    ")"
   ]
  },
  {
   "cell_type": "markdown",
   "id": "e66008c5",
   "metadata": {},
   "source": [
    "**Question 1**\n",
    "\n",
    "Answer: `binary crossentropy`"
   ]
  },
  {
   "cell_type": "markdown",
   "id": "2ee72d36",
   "metadata": {},
   "source": [
    "**Question 2**"
   ]
  },
  {
   "cell_type": "code",
   "execution_count": 4,
   "id": "33322767",
   "metadata": {},
   "outputs": [
    {
     "name": "stdout",
     "output_type": "stream",
     "text": [
      "Model: \"sequential\"\n",
      "_________________________________________________________________\n",
      " Layer (type)                Output Shape              Param #   \n",
      "=================================================================\n",
      " conv2d (Conv2D)             (None, 148, 148, 32)      896       \n",
      "                                                                 \n",
      " max_pooling2d (MaxPooling2D  (None, 74, 74, 32)       0         \n",
      " )                                                               \n",
      "                                                                 \n",
      " flatten (Flatten)           (None, 175232)            0         \n",
      "                                                                 \n",
      " dense (Dense)               (None, 64)                11214912  \n",
      "                                                                 \n",
      " dense_1 (Dense)             (None, 1)                 65        \n",
      "                                                                 \n",
      "=================================================================\n",
      "Total params: 11,215,873\n",
      "Trainable params: 11,215,873\n",
      "Non-trainable params: 0\n",
      "_________________________________________________________________\n"
     ]
    }
   ],
   "source": [
    "model.summary()"
   ]
  },
  {
   "cell_type": "markdown",
   "id": "765d1e10",
   "metadata": {},
   "source": [
    "*Generators and Training*"
   ]
  },
  {
   "cell_type": "code",
   "execution_count": 5,
   "id": "0deeaf53",
   "metadata": {},
   "outputs": [
    {
     "name": "stdout",
     "output_type": "stream",
     "text": [
      "Found 3677 images belonging to 2 classes.\n",
      "Found 918 images belonging to 2 classes.\n",
      "Epoch 1/10\n"
     ]
    },
    {
     "name": "stderr",
     "output_type": "stream",
     "text": [
      "2023-11-16 12:06:00.180624: I tensorflow/stream_executor/cuda/cuda_dnn.cc:384] Loaded cuDNN version 8100\n",
      "2023-11-16 12:06:00.859162: I tensorflow/core/platform/default/subprocess.cc:304] Start cannot spawn child process: No such file or directory\n",
      "2023-11-16 12:06:00.859975: I tensorflow/core/platform/default/subprocess.cc:304] Start cannot spawn child process: No such file or directory\n",
      "2023-11-16 12:06:00.860012: W tensorflow/stream_executor/gpu/asm_compiler.cc:80] Couldn't get ptxas version string: INTERNAL: Couldn't invoke ptxas --version\n",
      "2023-11-16 12:06:00.860899: I tensorflow/core/platform/default/subprocess.cc:304] Start cannot spawn child process: No such file or directory\n",
      "2023-11-16 12:06:00.860984: W tensorflow/stream_executor/gpu/redzone_allocator.cc:314] INTERNAL: Failed to launch ptxas\n",
      "Relying on driver to perform ptx compilation. \n",
      "Modify $PATH to customize ptxas location.\n",
      "This message will be only logged once.\n"
     ]
    },
    {
     "name": "stdout",
     "output_type": "stream",
     "text": [
      "184/184 [==============================] - 12s 52ms/step - loss: 0.6549 - accuracy: 0.5967 - val_loss: 0.5880 - val_accuracy: 0.6983\n",
      "Epoch 2/10\n",
      "184/184 [==============================] - 9s 50ms/step - loss: 0.5762 - accuracy: 0.7017 - val_loss: 0.5546 - val_accuracy: 0.7015\n",
      "Epoch 3/10\n",
      "184/184 [==============================] - 9s 50ms/step - loss: 0.5308 - accuracy: 0.7441 - val_loss: 0.5573 - val_accuracy: 0.7015\n",
      "Epoch 4/10\n",
      "184/184 [==============================] - 9s 50ms/step - loss: 0.5024 - accuracy: 0.7645 - val_loss: 0.5497 - val_accuracy: 0.7386\n",
      "Epoch 5/10\n",
      "184/184 [==============================] - 9s 49ms/step - loss: 0.4758 - accuracy: 0.7843 - val_loss: 0.5328 - val_accuracy: 0.7429\n",
      "Epoch 6/10\n",
      "184/184 [==============================] - 9s 49ms/step - loss: 0.4381 - accuracy: 0.8118 - val_loss: 0.5193 - val_accuracy: 0.7527\n",
      "Epoch 7/10\n",
      "184/184 [==============================] - 9s 49ms/step - loss: 0.4057 - accuracy: 0.8298 - val_loss: 0.4915 - val_accuracy: 0.7636\n",
      "Epoch 8/10\n",
      "184/184 [==============================] - 9s 50ms/step - loss: 0.3685 - accuracy: 0.8466 - val_loss: 0.4890 - val_accuracy: 0.7810\n",
      "Epoch 9/10\n",
      "184/184 [==============================] - 9s 49ms/step - loss: 0.3440 - accuracy: 0.8640 - val_loss: 0.4829 - val_accuracy: 0.7821\n",
      "Epoch 10/10\n",
      "184/184 [==============================] - 9s 49ms/step - loss: 0.3004 - accuracy: 0.8790 - val_loss: 0.4782 - val_accuracy: 0.7778\n"
     ]
    }
   ],
   "source": [
    "train_generator = ImageDataGenerator(rescale=1./255)\n",
    "test_generator = ImageDataGenerator(rescale=1./255)\n",
    "\n",
    "train_ds = train_generator.flow_from_directory(\n",
    "    './data/train',\n",
    "    class_mode='binary',\n",
    "    target_size=(150, 150),\n",
    "    batch_size=20,\n",
    "    shuffle=True\n",
    ")\n",
    "\n",
    "test_ds = test_generator.flow_from_directory(\n",
    "    './data/test',\n",
    "    class_mode='binary',\n",
    "    target_size=(150, 150),\n",
    "    batch_size=20,\n",
    "    shuffle=True\n",
    ")\n",
    "\n",
    "history = model.fit(train_ds, epochs=10, validation_data=test_ds)\n",
    "df_history = pd.DataFrame(history.history)"
   ]
  },
  {
   "cell_type": "markdown",
   "id": "aa9efa9a",
   "metadata": {},
   "source": [
    "**Question 3**"
   ]
  },
  {
   "cell_type": "code",
   "execution_count": 6,
   "id": "e577c04c",
   "metadata": {},
   "outputs": [
    {
     "data": {
      "text/plain": [
       "0.8"
      ]
     },
     "execution_count": 6,
     "metadata": {},
     "output_type": "execute_result"
    }
   ],
   "source": [
    "round(df_history['accuracy'].median(), 2)"
   ]
  },
  {
   "cell_type": "markdown",
   "id": "95fe31da",
   "metadata": {},
   "source": [
    "**Question 4**"
   ]
  },
  {
   "cell_type": "code",
   "execution_count": 7,
   "id": "49f0dab6",
   "metadata": {},
   "outputs": [
    {
     "data": {
      "text/plain": [
       "0.1102"
      ]
     },
     "execution_count": 7,
     "metadata": {},
     "output_type": "execute_result"
    }
   ],
   "source": [
    "round(df_history['loss'].std(), 4)"
   ]
  },
  {
   "cell_type": "markdown",
   "id": "1fe3cb4d",
   "metadata": {},
   "source": [
    "*Data Augmentation*"
   ]
  },
  {
   "cell_type": "code",
   "execution_count": 8,
   "id": "cf5d5827",
   "metadata": {},
   "outputs": [
    {
     "name": "stdout",
     "output_type": "stream",
     "text": [
      "Found 3677 images belonging to 2 classes.\n"
     ]
    }
   ],
   "source": [
    "train_generator = ImageDataGenerator(\n",
    "    rescale=1./255,\n",
    "    rotation_range=50,\n",
    "    width_shift_range=0.1,\n",
    "    height_shift_range=0.1,\n",
    "    zoom_range=0.1,\n",
    "    horizontal_flip=True,\n",
    "    fill_mode='nearest'\n",
    ")\n",
    "\n",
    "train_ds = train_generator.flow_from_directory(\n",
    "    './data/train',\n",
    "    class_mode='binary',\n",
    "    target_size=(150, 150),\n",
    "    batch_size=20,\n",
    "    shuffle=True\n",
    ")"
   ]
  },
  {
   "cell_type": "markdown",
   "id": "0b7dcecf",
   "metadata": {},
   "source": [
    "**Question 5**"
   ]
  },
  {
   "cell_type": "code",
   "execution_count": 9,
   "id": "af6c005b",
   "metadata": {},
   "outputs": [
    {
     "name": "stdout",
     "output_type": "stream",
     "text": [
      "Epoch 1/10\n",
      "184/184 [==============================] - 25s 137ms/step - loss: 0.4976 - accuracy: 0.7688 - val_loss: 0.4675 - val_accuracy: 0.7778\n",
      "Epoch 2/10\n",
      "184/184 [==============================] - 26s 141ms/step - loss: 0.4837 - accuracy: 0.7683 - val_loss: 0.4727 - val_accuracy: 0.7832\n",
      "Epoch 3/10\n",
      "184/184 [==============================] - 25s 137ms/step - loss: 0.4727 - accuracy: 0.7732 - val_loss: 0.4922 - val_accuracy: 0.7767\n",
      "Epoch 4/10\n",
      "184/184 [==============================] - 25s 138ms/step - loss: 0.4713 - accuracy: 0.7857 - val_loss: 0.4650 - val_accuracy: 0.7843\n",
      "Epoch 5/10\n",
      "184/184 [==============================] - 26s 139ms/step - loss: 0.4645 - accuracy: 0.7909 - val_loss: 0.4855 - val_accuracy: 0.7865\n",
      "Epoch 6/10\n",
      "184/184 [==============================] - 26s 140ms/step - loss: 0.4662 - accuracy: 0.7860 - val_loss: 0.6489 - val_accuracy: 0.6917\n",
      "Epoch 7/10\n",
      "184/184 [==============================] - 26s 143ms/step - loss: 0.4698 - accuracy: 0.7852 - val_loss: 0.4925 - val_accuracy: 0.7865\n",
      "Epoch 8/10\n",
      "184/184 [==============================] - 26s 139ms/step - loss: 0.4638 - accuracy: 0.7895 - val_loss: 0.4700 - val_accuracy: 0.7974\n",
      "Epoch 9/10\n",
      "184/184 [==============================] - 26s 139ms/step - loss: 0.4470 - accuracy: 0.7968 - val_loss: 0.5207 - val_accuracy: 0.7778\n",
      "Epoch 10/10\n",
      "184/184 [==============================] - 26s 139ms/step - loss: 0.4511 - accuracy: 0.7987 - val_loss: 0.4607 - val_accuracy: 0.7908\n"
     ]
    }
   ],
   "source": [
    "history = model.fit(train_ds, epochs=10, validation_data=test_ds)\n",
    "df_history = pd.DataFrame(history.history)"
   ]
  },
  {
   "cell_type": "code",
   "execution_count": 10,
   "id": "c07dcec1",
   "metadata": {},
   "outputs": [
    {
     "data": {
      "text/plain": [
       "0.5"
      ]
     },
     "execution_count": 10,
     "metadata": {},
     "output_type": "execute_result"
    }
   ],
   "source": [
    "round(df_history['val_loss'].mean(), 2)"
   ]
  },
  {
   "cell_type": "markdown",
   "id": "c0506e71",
   "metadata": {},
   "source": [
    "**Question 6**"
   ]
  },
  {
   "cell_type": "code",
   "execution_count": 11,
   "id": "3a94f258",
   "metadata": {},
   "outputs": [
    {
     "data": {
      "text/plain": [
       "0.79"
      ]
     },
     "execution_count": 11,
     "metadata": {},
     "output_type": "execute_result"
    }
   ],
   "source": [
    "round(df_history['accuracy'][-5:].mean(), 2)"
   ]
  }
 ],
 "metadata": {
  "kernelspec": {
   "display_name": "saturn (Python 3)",
   "language": "python",
   "name": "python3"
  },
  "language_info": {
   "codemirror_mode": {
    "name": "ipython",
    "version": 3
   },
   "file_extension": ".py",
   "mimetype": "text/x-python",
   "name": "python",
   "nbconvert_exporter": "python",
   "pygments_lexer": "ipython3",
   "version": "3.9.13"
  }
 },
 "nbformat": 4,
 "nbformat_minor": 5
}
